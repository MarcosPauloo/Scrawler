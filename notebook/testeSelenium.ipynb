{
 "cells": [
  {
   "cell_type": "code",
   "execution_count": 1,
   "metadata": {},
   "outputs": [],
   "source": [
    "from selenium import webdriver\n",
    "from selenium.webdriver.chrome.options import Options\n",
    "from selenium.webdriver.support.ui import WebDriverWait\n",
    "from selenium.webdriver.common.by import By\n",
    "from selenium.webdriver.support import expected_conditions as EC\n",
    "import json\n",
    "import time"
   ]
  },
  {
   "cell_type": "code",
   "execution_count": 57,
   "metadata": {},
   "outputs": [
    {
     "name": "stdout",
     "output_type": "stream",
     "text": [
      "[{'titulo': 'https://www.jusbrasil.com.br/artigos-noticias/busca?q=seguran%C3%A7a+de+dados', 'texto1': 'A segurança de dados para atividades jurídicas', 'texto2': 'Como está a segurança de dados na sua empresa?', 'texto3': 'Pix e a segurança dos dados', 'texto4': 'Incidente de Segurança com Dados', 'texto5': 'Política de Privacidade e Segurança de Dados do Site', 'texto6': 'Veja como manter a segurança de dados na internet', 'texto7': 'TJPI é o primeiro em segurança de dados no Estado', 'texto8': '‘Preocupação com segurança de dados tem de ser o foco das empresas’', 'texto9': 'Worldcoin, dono do ChatGPT, gera preocupação sobre segurança de dados e privacidade.', 'texto10': 'A importância da segurança dos dados - LGPD'}, {'titulo': 'https://www.jusbrasil.com.br/jurisprudencia/busca?q=seguran%C3%A7a+de+dados', 'texto1': 'TJ-MT - XXXXX20208110044 MT', 'texto2': 'TJ-SP - Apelação Cível: AC XXXXX20218260405 SP XXXXX-71.2021.8.26.0405', 'texto3': 'STJ - RECURSO ESPECIAL: REsp XXXXX RJ XXXX/XXXXX-4', 'texto4': 'TJ-MG - Apelação Cível: AC XXXXX10824256001 MG', 'texto5': 'TJ-SP - Apelação Cível XXXXX20228260068 Barueri', 'texto6': 'TJ-MS - XXXXX20228120110 Campo Grande', 'texto7': 'TJ-PR - Recurso Inominado: RI XXXXX20218160036 São José dos Pinhais XXXXX-16.2021.8.16.0036 (Acórdão)', 'texto8': 'TJ-BA - Mandado de Segurança: MS XXXXX20198050000', 'texto9': 'TRF-1 - APELAÇÃO EM MANDADO DE SEGURANÇA: AMS XXXXX20214013400', 'texto10': 'STJ - RECURSO ESPECIAL: REsp XXXXX MG XXXX/XXXXX-9'}, {'titulo': 'https://www.jusbrasil.com.br/diarios/busca?q=seguran%C3%A7a+de+dados', 'texto1': 'RPI 19/12/2023 - Pág. 1263 - Marcas - Revista da Propriedade Industrial', 'texto2': 'RPI 19/12/2023 - Pág. 1234 - Marcas - Revista da Propriedade Industrial', 'texto3': 'RPI 19/12/2023 - Pág. 1239 - Marcas - Revista da Propriedade Industrial', 'texto4': 'RPI 19/12/2023 - Pág. 1259 - Marcas - Revista da Propriedade Industrial', 'texto5': 'RPI 02/01/2024 - Pág. 6257 - Marcas - Revista da Propriedade Industrial', 'texto6': 'RPI 26/12/2023 - Pág. 5150 - Marcas - Revista da Propriedade Industrial', 'texto7': 'RPI 03/10/2023 - Pág. 5204 - Marcas - Revista da Propriedade Industrial', 'texto8': 'RPI 02/01/2024 - Pág. 233 - Marcas - Revista da Propriedade Industrial', 'texto9': 'RPI 26/12/2023 - Pág. 1350 - Marcas - Revista da Propriedade Industrial', 'texto10': 'RPI 02/01/2024 - Pág. 255 - Marcas - Revista da Propriedade Industrial'}, {'titulo': 'https://www.jusbrasil.com.br/pecas/busca?q=seguran%C3%A7a+de+dados', 'texto1': 'Petição Inicial - TJCE - Ação Indenização por Danos Morais por Falha na Segurança de Dados - Procedimento do Juizado Especial Cível - contra Banco PAN', 'texto2': 'Indenização por Falha na Segurança dos Dados - Procedimento do Juizado Especial Cível - contra TAM Linhas Aereas', 'texto3': 'Petição Inicial - TJRJ - Ação de Indenização por Danos Morais por Responsabilidade do Fornecedor por Falha na Segurança de Dados - Procedimento do Juizado Especial Cível - contra Mercadopago.Com Representações', 'texto4': 'Petição Inicial - TJSP - Ação Indenização por Danos Morais, por Falha na Segurança dos Dados Cadastrais, Expondo a Ações Criminosas - Procedimento do Juizado Especial Cível', 'texto5': 'Petição Inicial - TJMA - Ação de Indenização por Danos Materiais (Inexistência de Débito) e Danos Morais por Quebra de Segurança de Dados - Procedimento Comum Cível - contra Banco do Brasil', 'texto6': 'Petição Inicial - TJSP - Ação Acontece que é de Conhecimento Geral que a Segurança de Dados dos Bancos e de Empresas de Segurança em Geral, é de Responsabilidade da Própria Empresa - Procedimento Comum Cível - contra Bulgarelli Sociedade de Advogados', 'texto7': 'Petição - TRF01 - Ação Proteção de Dados Pessoais - Ação Civil Pública - de Instituto Brasileiro de Defesa da Protecao de Dados Pessoais, Compliance e Seguranca da Informacao Sigilo contra Autoridade Nacional de Protecao de Dados e União Federal', 'texto8': 'Petição - TJCE - Ação Proteção de Dados Pessoais - Mandado de Segurança Cível', 'texto9': 'Petição - TRF01 - Ação Proteção de Dados Pessoais - Mandado de Segurança Cível - de Associacao dos Titulares de Cartorios do Brasil contra União Federal', 'texto10': 'Recurso - TRF01 - Ação Proteção de Dados Pessoais - Ação Civil Pública - de Instituto Brasileiro de Defesa da Protecao de Dados Pessoais, Compliance e Seguranca da Informacao Sigilo contra Autoridade Nacional de Protecao de Dados e União Federal'}, {'titulo': 'https://www.jusbrasil.com.br/modelos-pecas/busca?q=seguran%C3%A7a+de+dados', 'texto1': 'Cinto De Segurança Div Dados', 'texto2': '[Modelo] Mandado de Segurança', 'texto3': 'Danos Morais Vazamento de Dados Bancários', 'texto4': 'Mandado de segurança com pedido de tutela de urgência antecipada', 'texto5': '[MODELO] Mandado de Segurança - Restituição de veículo apreendido em processo criminal', 'texto6': '[Modelo] Mandado de Segurança com pedido liminar', 'texto7': 'Mandado de Segurança com Pedido Liminar', 'texto8': 'Mandado de segurança Cível com pedido de Tutela', 'texto9': 'Mandado de Segurança OAB xxxii', 'texto10': 'Modelo de Mandado de Segurança - Ato Administrativo - Licitação - Renovação de Contrato'}, {'titulo': 'https://www.jusbrasil.com.br/legislacao/busca?q=seguran%C3%A7a+de+dados', 'texto1': 'DECRETO Nº 10.046, DE 9 DE OUTUBRO DE 2019', 'texto2': 'Artigo 20A do Decreto nº 10.046 de 09 de Outubro de 2019', 'texto3': 'Artigo 7 do Decreto nº 10.046 de 09 de Outubro de 2019', 'texto4': 'Artigo 12 do Decreto nº 10.046 de 09 de Outubro de 2019', 'texto5': 'LEI Nº 13.709, DE 14 DE AGOSTO DE 2018.', 'texto6': 'Artigo 44 da Lei nº 13.709 de 14 de Agosto de 2018', 'texto7': 'Artigo 47 da Lei nº 13.709 de 14 de Agosto de 2018', 'texto8': 'Artigo 38 da Lei nº 13.709 de 14 de Agosto de 2018', 'texto9': 'DECRETO Nº 11.208, DE 26 DE SETEMBRO DE 2022', 'texto10': 'Artigo 8 do Decreto nº 11.208 de 26 de Setembro de 2022', 'texto11': 'Artigo 7 do Decreto nº 11.208 de 26 de Setembro de 2022', 'texto12': 'Artigo 6 do Decreto nº 11.208 de 26 de Setembro de 2022', 'texto13': 'DECRETO Nº 11.103, DE 24 DE JUNHO DE 2022', 'texto14': 'Artigo 25 do Decreto nº 11.103 de 24 de Junho de 2022', 'texto15': 'Artigo 32 do Decreto nº 11.103 de 24 de Junho de 2022', 'texto16': 'Artigo 23 do Decreto nº 11.103 de 24 de Junho de 2022', 'texto17': 'DECRETO Nº 11.676, DE 30 DE AGOSTO DE 2023', 'texto18': 'Artigo 20 do Decreto nº 11.676 de 30 de Agosto de 2023', 'texto19': 'Artigo 19 do Decreto nº 11.676 de 30 de Agosto de 2023', 'texto20': 'Artigo 21 do Decreto nº 11.676 de 30 de Agosto de 2023', 'texto21': 'LEI Nº 13.675, DE 11 DE JUNHO DE 2018.', 'texto22': 'Artigo 36 da Lei nº 13.675 de 11 de Junho de 2018', 'texto23': 'Artigo 35 da Lei nº 13.675 de 11 de Junho de 2018', 'texto24': 'Artigo 37 da Lei nº 13.675 de 11 de Junho de 2018', 'texto25': 'DECRETO Nº 11.857, DE 26 DE DEZEMBRO DE 2023', 'texto26': 'Artigo 26 do Decreto nº 11.857 de 26 de Dezembro de 2023', 'texto27': 'Artigo 16 do Decreto nº 11.857 de 26 de Dezembro de 2023', 'texto28': 'DECRETO Nº 11.348, DE 1º DE JANEIRO DE 2023', 'texto29': 'Artigo 29 do Decreto nº 11.348 de 01 de Janeiro de 2023', 'texto30': 'Artigo 28 do Decreto nº 11.348 de 01 de Janeiro de 2023', 'texto31': 'Artigo 24 do Decreto nº 11.348 de 01 de Janeiro de 2023', 'texto32': 'DECRETO Nº 9.637, DE 26 DE DEZEMBRO DE 2018', 'texto33': 'Artigo 2 do Decreto nº 9.637 de 26 de Dezembro de 2018', 'texto34': 'Artigo 6 do Decreto nº 9.637 de 26 de Dezembro de 2018', 'texto35': 'Artigo 4 do Decreto nº 9.637 de 26 de Dezembro de 2018', 'texto36': 'DECRETO Nº 9.573, DE 22 DE NOVEMBRO DE 2018', 'texto37': 'Artigo 9 do Decreto nº 9.573 de 22 de Novembro de 2018', 'texto38': 'Artigo 14 do Decreto nº 9.573 de 22 de Novembro de 2018', 'texto39': 'Artigo 5 do Decreto nº 9.573 de 22 de Novembro de 2018'}]\n"
     ]
    }
   ],
   "source": [
    "chrome_options = Options()\n",
    "chrome_options.add_argument('--headless')\n",
    "drive = webdriver.Chrome()\n",
    "wait = WebDriverWait(drive, 10)\n",
    "\n",
    "drive.get(\"https://www.jusbrasil.com.br/busca?q=seguran%C3%A7a+de+dados\")\n",
    "\n",
    "dados =[]\n",
    "\n",
    "def get_next_pages(url):\n",
    "    chrome_optionsAux = Options()\n",
    "    chrome_optionsAux.add_argument('--headless')\n",
    "    driver = webdriver.Chrome()\n",
    "    waitAux = WebDriverWait(driver, 10)\n",
    "\n",
    "    driver.get(url)\n",
    "    \n",
    "    dicionario = {}\n",
    "    dicionario['titulo'] = url\n",
    "\n",
    "    site_html = waitAux.until(lambda driver: driver.find_elements(by=By.XPATH,value='*//h2/a'))\n",
    "\n",
    "    index = 0\n",
    "    for texto in site_html:\n",
    "        index = index+1\n",
    "        dicionario['texto'+str(index)]=texto.text\n",
    "    \n",
    "    dados.append(dicionario)\n",
    "\n",
    "    driver.close()\n",
    "\n",
    "exemplo = drive.find_elements(By.XPATH, '//*[@id=\"__next\"]/div/aside/div[2]/ul//li')\n",
    "\n",
    "for i in range(1,len(exemplo)-2):\n",
    "    e = exemplo[i]\n",
    "    aux= e.find_element(by=By.XPATH, value='./a')\n",
    "    texto = aux.get_attribute('href')\n",
    "    get_next_pages(texto)\n",
    "\n",
    "with open('dadosAux.json', 'w', encoding='utf-8') as file:\n",
    "    json.dump(dados, file, ensure_ascii=False,indent=2)\n",
    "\n",
    "print(dados)\n",
    "\n",
    "drive.close()\n"
   ]
  },
  {
   "cell_type": "code",
   "execution_count": 58,
   "metadata": {},
   "outputs": [
    {
     "ename": "UnboundLocalError",
     "evalue": "cannot access local variable 'index' where it is not associated with a value",
     "output_type": "error",
     "traceback": [
      "\u001b[1;31m---------------------------------------------------------------------------\u001b[0m",
      "\u001b[1;31mUnboundLocalError\u001b[0m                         Traceback (most recent call last)",
      "Cell \u001b[1;32mIn[58], line 45\u001b[0m\n\u001b[0;32m     43\u001b[0m     aux\u001b[38;5;241m=\u001b[39m e\u001b[38;5;241m.\u001b[39mfind_element(by\u001b[38;5;241m=\u001b[39mBy\u001b[38;5;241m.\u001b[39mXPATH, value\u001b[38;5;241m=\u001b[39m\u001b[38;5;124m'\u001b[39m\u001b[38;5;124m./a\u001b[39m\u001b[38;5;124m'\u001b[39m)\n\u001b[0;32m     44\u001b[0m     texto \u001b[38;5;241m=\u001b[39m aux\u001b[38;5;241m.\u001b[39mget_attribute(\u001b[38;5;124m'\u001b[39m\u001b[38;5;124mhref\u001b[39m\u001b[38;5;124m'\u001b[39m)\n\u001b[1;32m---> 45\u001b[0m     \u001b[43mget_next_pages\u001b[49m\u001b[43m(\u001b[49m\u001b[43mtexto\u001b[49m\u001b[43m)\u001b[49m\n\u001b[0;32m     47\u001b[0m \u001b[38;5;28;01mwith\u001b[39;00m \u001b[38;5;28mopen\u001b[39m(\u001b[38;5;124m'\u001b[39m\u001b[38;5;124mdadosAux.json\u001b[39m\u001b[38;5;124m'\u001b[39m, \u001b[38;5;124m'\u001b[39m\u001b[38;5;124mw\u001b[39m\u001b[38;5;124m'\u001b[39m, encoding\u001b[38;5;241m=\u001b[39m\u001b[38;5;124m'\u001b[39m\u001b[38;5;124mutf-8\u001b[39m\u001b[38;5;124m'\u001b[39m) \u001b[38;5;28;01mas\u001b[39;00m file:\n\u001b[0;32m     48\u001b[0m     json\u001b[38;5;241m.\u001b[39mdump(dados, file, ensure_ascii\u001b[38;5;241m=\u001b[39m\u001b[38;5;28;01mFalse\u001b[39;00m,indent\u001b[38;5;241m=\u001b[39m\u001b[38;5;241m2\u001b[39m)\n",
      "Cell \u001b[1;32mIn[58], line 12\u001b[0m, in \u001b[0;36mget_next_pages\u001b[1;34m(url)\u001b[0m\n\u001b[0;32m     10\u001b[0m \u001b[38;5;28;01mdef\u001b[39;00m \u001b[38;5;21mget_next_pages\u001b[39m(url):\n\u001b[0;32m     11\u001b[0m     pagina \u001b[38;5;241m=\u001b[39m \u001b[38;5;241m1\u001b[39m \n\u001b[1;32m---> 12\u001b[0m     \u001b[38;5;28;01mwhile\u001b[39;00m(\u001b[43mindex\u001b[49m\u001b[38;5;241m<\u001b[39m\u001b[38;5;241m10\u001b[39m):\n\u001b[0;32m     13\u001b[0m         chrome_optionsAux \u001b[38;5;241m=\u001b[39m Options()\n\u001b[0;32m     14\u001b[0m         chrome_optionsAux\u001b[38;5;241m.\u001b[39madd_argument(\u001b[38;5;124m'\u001b[39m\u001b[38;5;124m--headless\u001b[39m\u001b[38;5;124m'\u001b[39m)\n",
      "\u001b[1;31mUnboundLocalError\u001b[0m: cannot access local variable 'index' where it is not associated with a value"
     ]
    }
   ],
   "source": [
    "chrome_options = Options()\n",
    "chrome_options.add_argument('--headless')\n",
    "drive = webdriver.Chrome()\n",
    "wait = WebDriverWait(drive, 10)\n",
    "\n",
    "drive.get(\"https://www.jusbrasil.com.br/busca?q=seguran%C3%A7a+de+dados\")\n",
    "\n",
    "dados =[]\n",
    "\n",
    "def get_next_pages(url):\n",
    "    pagina = 1 \n",
    "    while(pagina<10):\n",
    "        chrome_optionsAux = Options()\n",
    "        chrome_optionsAux.add_argument('--headless')\n",
    "        driver = webdriver.Chrome()\n",
    "        waitAux = WebDriverWait(driver, 10)\n",
    "\n",
    "        complemento = \"&p=\"+str(pagina)\n",
    "\n",
    "        driver.get(url+complemento)\n",
    "        \n",
    "        dicionario = {}\n",
    "        dicionario['titulo'] = url\n",
    "\n",
    "        site_html = waitAux.until(lambda driver: driver.find_elements(by=By.XPATH,value='*//h2/a'))\n",
    "\n",
    "        index = 0\n",
    "        for texto in site_html:\n",
    "            index = index+1\n",
    "            dicionario['texto'+str(index)]=texto.text\n",
    "        \n",
    "        dados.append(dicionario)\n",
    "\n",
    "        pagina = pagina + 1\n",
    "\n",
    "        driver.close()\n",
    "        \n",
    "\n",
    "exemplo = drive.find_elements(By.XPATH, '//*[@id=\"__next\"]/div/aside/div[2]/ul//li')\n",
    "\n",
    "for i in range(1,len(exemplo)-2):\n",
    "    e = exemplo[i]\n",
    "    aux= e.find_element(by=By.XPATH, value='./a')\n",
    "    texto = aux.get_attribute('href')\n",
    "    get_next_pages(texto)\n",
    "\n",
    "with open('dadosAux.json', 'w', encoding='utf-8') as file:\n",
    "    json.dump(dados, file, ensure_ascii=False,indent=2)\n",
    "\n",
    "print(dados)\n",
    "\n",
    "drive.close()\n"
   ]
  }
 ],
 "metadata": {
  "kernelspec": {
   "display_name": "Python 3",
   "language": "python",
   "name": "python3"
  },
  "language_info": {
   "codemirror_mode": {
    "name": "ipython",
    "version": 3
   },
   "file_extension": ".py",
   "mimetype": "text/x-python",
   "name": "python",
   "nbconvert_exporter": "python",
   "pygments_lexer": "ipython3",
   "version": "3.12.1"
  }
 },
 "nbformat": 4,
 "nbformat_minor": 2
}
