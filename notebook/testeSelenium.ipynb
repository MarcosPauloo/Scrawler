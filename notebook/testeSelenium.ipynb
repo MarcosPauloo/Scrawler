{
 "cells": [
  {
   "cell_type": "code",
   "execution_count": 76,
   "metadata": {},
   "outputs": [],
   "source": [
    "from selenium import webdriver\n",
    "from selenium.webdriver.chrome.options import Options\n",
    "from selenium.webdriver.support.ui import WebDriverWait\n",
    "from selenium.webdriver.common.by import By\n",
    "from selenium.webdriver.support import expected_conditions as EC\n",
    "import json\n",
    "import time"
   ]
  },
  {
   "cell_type": "code",
   "execution_count": 111,
   "metadata": {},
   "outputs": [
    {
     "name": "stdout",
     "output_type": "stream",
     "text": [
      "https://www.jusbrasil.com.br/busca?q=seguran%C3%A7a+de+dados\n",
      "A <b>segurança</b> de <b>dados</b> para atividades jurídicas\n",
      "https://www.jusbrasil.com.br/artigos-noticias/busca?q=seguran%C3%A7a+de+dados\n",
      "A <b>segurança</b> de <b>dados</b> para atividades jurídicas\n",
      "https://www.jusbrasil.com.br/jurisprudencia/busca?q=seguran%C3%A7a+de+dados\n",
      "A <b>segurança</b> de <b>dados</b> para atividades jurídicas\n",
      "https://www.jusbrasil.com.br/diarios/busca?q=seguran%C3%A7a+de+dados\n",
      "A <b>segurança</b> de <b>dados</b> para atividades jurídicas\n",
      "https://www.jusbrasil.com.br/pecas/busca?q=seguran%C3%A7a+de+dados\n",
      "A <b>segurança</b> de <b>dados</b> para atividades jurídicas\n",
      "https://www.jusbrasil.com.br/modelos-pecas/busca?q=seguran%C3%A7a+de+dados\n",
      "A <b>segurança</b> de <b>dados</b> para atividades jurídicas\n",
      "https://www.jusbrasil.com.br/legislacao/busca?q=seguran%C3%A7a+de+dados\n",
      "A <b>segurança</b> de <b>dados</b> para atividades jurídicas\n",
      "https://www.jusbrasil.com.br/consulta-processual/busca?q=seguran%C3%A7a+de+dados\n",
      "A <b>segurança</b> de <b>dados</b> para atividades jurídicas\n",
      "https://www.jusbrasil.com.br/doutrina/busca?q=seguran%C3%A7a+de+dados\n",
      "A <b>segurança</b> de <b>dados</b> para atividades jurídicas\n"
     ]
    }
   ],
   "source": [
    "chrome_options = Options()\n",
    "chrome_options.add_argument('--headless')\n",
    "drive = webdriver.Chrome()\n",
    "wait = WebDriverWait(drive, 10)\n",
    "\n",
    "drive.get(\"https://www.jusbrasil.com.br/artigos-noticias/busca?q=seguran%C3%A7a+de+dados\")\n",
    "#drive.get(\"https://www.jusbrasil.com.br/busca?q=seguran%C3%A7a+de+dados\")\n",
    "\n",
    "dados =[];\n",
    "\n",
    "def get_next_pages(url):\n",
    "    chrome_optionsAux = Options()\n",
    "    chrome_optionsAux.add_argument('--headless')\n",
    "    driver = webdriver.Chrome(options=chrome_optionsAux)\n",
    "    #wait = WebDriverWait(driver, 10)\n",
    "\n",
    "    driver.get(url)\n",
    "    print(url)\n",
    "    #print(url)\n",
    "    \n",
    "    site_html = wait.until(lambda driver: driver.find_element(by=By.XPATH,value='*//h2/a')).get_attribute('innerHTML')\n",
    "    #site_html = driverAux.find_element(by=By.XPATH,value='*//h2/a')\n",
    "\n",
    "    print(site_html)\n",
    "    # titulo = ''\n",
    "    # for site in site_html:\n",
    "    #     print('1')\n",
    "    #     titulo = site.text\n",
    "    #     print(titulo)\n",
    "\n",
    "    driver.close()\n",
    "\n",
    "exemplo = drive.find_elements(By.XPATH, '//*[@id=\"app-root\"]/div/div/div[1]/div/div/div/ul[1]/li')\n",
    "for e in exemplo:\n",
    "    aux= e.find_element(by=By.XPATH, value='./a')\n",
    "    texto = aux.get_attribute('href')\n",
    "    get_next_pages(texto)\n",
    "\n",
    "\n",
    "\n",
    "drive.close()\n",
    "\n"
   ]
  },
  {
   "cell_type": "code",
   "execution_count": 107,
   "metadata": {},
   "outputs": [
    {
     "name": "stdout",
     "output_type": "stream",
     "text": [
      "RPI 03/10/2023 - Pág. 5204 - Marcas - Revista da Propriedade Industrial\n",
      "RPI 10/10/2023 - Pág. 4175 - Marcas - Revista da Propriedade Industrial\n",
      "RPI 10/10/2023 - Pág. 6138 - Marcas - Revista da Propriedade Industrial\n",
      "RPI 29/08/2023 - Pág. 1574 - Marcas - Revista da Propriedade Industrial\n",
      "TRT-5 25/10/2023 - Pág. 3 - Administrativo - Tribunal Regional do Trabalho da 5ª Região\n",
      "DOEAL 17/11/2023 - Pág. 96 - Diário Oficial - Diário Oficial do Estado de Alagoas\n",
      "RPI 28/11/2023 - Pág. 3155 - Marcas - Revista da Propriedade Industrial\n",
      "RPI 08/08/2023 - Pág. 2217 - Marcas - Revista da Propriedade Industrial\n",
      "RPI 21/11/2023 - Pág. 1035 - Marcas - Revista da Propriedade Industrial\n",
      "RPI 14/11/2023 - Pág. 5557 - Marcas - Revista da Propriedade Industrial\n"
     ]
    }
   ],
   "source": [
    "chrome_options = Options()\n",
    "chrome_options.add_argument('--headless')\n",
    "drive = webdriver.Chrome()\n",
    "wait = WebDriverWait(drive, 10)\n",
    "\n",
    "drive.get(\"https://www.jusbrasil.com.br/diarios/busca?q=seguran%C3%A7a+de+dados\")\n",
    "\n",
    "\n",
    "site_html = wait.until(lambda driver:drive.find_elements(By.XPATH,'*//h2/a'))\n",
    "\n",
    "for site in site_html:\n",
    "    titulo = site.text\n",
    "    print(titulo)\n",
    "    "
   ]
  }
 ],
 "metadata": {
  "kernelspec": {
   "display_name": "Python 3",
   "language": "python",
   "name": "python3"
  },
  "language_info": {
   "codemirror_mode": {
    "name": "ipython",
    "version": 3
   },
   "file_extension": ".py",
   "mimetype": "text/x-python",
   "name": "python",
   "nbconvert_exporter": "python",
   "pygments_lexer": "ipython3",
   "version": "3.11.4"
  }
 },
 "nbformat": 4,
 "nbformat_minor": 2
}
