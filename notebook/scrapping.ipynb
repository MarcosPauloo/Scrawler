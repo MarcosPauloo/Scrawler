{
 "cells": [
  {
   "cell_type": "code",
   "execution_count": 1,
   "metadata": {},
   "outputs": [],
   "source": [
    "import scrapy\n",
    "from scrapy.crawler import CrawlerRunner\n",
    "from urllib.parse import urlencode\n",
    "\n",
    "import re\n",
    "#reactor restart\n",
    "from crochet import setup, wait_for\n",
    "setup()\n",
    "\n",
    "API_KEY='b6d2ea20-0a70-40c1-9ca0-0de5564db9ec'"
   ]
  },
  {
   "cell_type": "code",
   "execution_count": 2,
   "metadata": {},
   "outputs": [],
   "source": [
    "def get_scrapeops_url(url):\n",
    "    payload={'api_key':API_KEY, 'url':url, 'bypass': 'cloudflare'}\n",
    "    proxy_url='https://proxy.scrapeops.io/v1/?' + urlencode(payload)\n",
    "    print(proxy_url)\n",
    "    return proxy_url"
   ]
  },
  {
   "cell_type": "code",
   "execution_count": 4,
   "metadata": {},
   "outputs": [],
   "source": [
    "class QuotesSpider(scrapy.Spider):\n",
    "    name = 'spiderJusBrasil'\n",
    "\n",
    "    custom_settings={\n",
    "        'FEEDS':{\n",
    "            'quotes.csv':{\n",
    "                'format': 'csv',\n",
    "                'overwrite': True\n",
    "            }\n",
    "        }\n",
    "    }\n",
    "    def parse(self, response):\n",
    "        #quotes = response.xpath('*//div[@class=\"search-results-subtitle_SearchResultsSubtitle__6_ecG\"]/h1[@class=\"search-results-subtitle_SearchResultsSubtitle-title__3itWy search-results-subtitle_SearchResultsSubtitle-title--marginBottomLarge__2WwRR\"]/strong/text()').get()\n",
    "        #quotes = response.xpath('*//section/h2[@class=\"search-results_SearchResults-title__QeJBI\"]')\n",
    "        quotes = response.xpath('*//div[@data-testid=\"search-results\"]/section')\n",
    "       \n",
    "        for quote in quotes:\n",
    "            tituloAux2=''\n",
    "            texto=''.join(quote.xpath('.//h2[@class=\"search-results_SearchResults-title__QeJBI\"]/text()').extract())\n",
    "            #titulo=quote.xpath('*//a[@data-testid=\"search-snippet-title-link\"]/text()').extract()\n",
    "            \n",
    "            #titulosAux =  quote.xpath('*//a[@data-testid=\"search-snippet-title-link\"]/b/text()').getall()\n",
    "\n",
    "            titulos = quote.xpath('*//a[@data-testid=\"search-snippet-title-link\"]')\n",
    "            titulo = ''.join([t.xpath('.//text()').extract_first() for t in titulos])\n",
    "\n",
    "            print(len(titulo))\n",
    "            print(len(titulosAux))\n",
    "            tituloAux2=''.join(titulosAux)\n",
    "            print(tituloAux2)\n",
    "            tituloFinal = tituloAux2.join(titulo)\n",
    "            yield{\n",
    "                'texto': texto,\n",
    "                'title': titulo\n",
    "                #'texto': quote.\n",
    "            }\n",
    "            \n",
    "\n",
    "    def start_requests(self):\n",
    "        urls=['https://www.jusbrasil.com.br/busca?q=seguran%C3%A7a+de+dados']\n",
    "        \n",
    "        for url in urls:\n",
    "            yield scrapy.Request(url=get_scrapeops_url(url), callback=self.parse)"
   ]
  },
  {
   "cell_type": "code",
   "execution_count": 5,
   "metadata": {},
   "outputs": [],
   "source": [
    "wait_for(10)\n",
    "def run_spider():\n",
    "    \"\"\"run spider with MJKQuotesToCsv\"\"\"\n",
    "    crawler = CrawlerRunner()\n",
    "    d = crawler.crawl(QuotesSpider)\n",
    "    return d"
   ]
  },
  {
   "cell_type": "code",
   "execution_count": 7,
   "metadata": {},
   "outputs": [
    {
     "data": {
      "text/plain": [
       "<Deferred at 0x20204c36110>"
      ]
     },
     "execution_count": 7,
     "metadata": {},
     "output_type": "execute_result"
    },
    {
     "name": "stdout",
     "output_type": "stream",
     "text": [
      "https://proxy.scrapeops.io/v1/?api_key=b6d2ea20-0a70-40c1-9ca0-0de5564db9ec&url=https%3A%2F%2Fwww.jusbrasil.com.br%2Fbusca%3Fq%3Dseguran%25C3%25A7a%2Bde%2Bdados&bypass=cloudflare\n",
      "147\n"
     ]
    }
   ],
   "source": [
    "run_spider()"
   ]
  }
 ],
 "metadata": {
  "kernelspec": {
   "display_name": "Python 3",
   "language": "python",
   "name": "python3"
  },
  "language_info": {
   "codemirror_mode": {
    "name": "ipython",
    "version": 3
   },
   "file_extension": ".py",
   "mimetype": "text/x-python",
   "name": "python",
   "nbconvert_exporter": "python",
   "pygments_lexer": "ipython3",
   "version": "3.11.4"
  }
 },
 "nbformat": 4,
 "nbformat_minor": 2
}
